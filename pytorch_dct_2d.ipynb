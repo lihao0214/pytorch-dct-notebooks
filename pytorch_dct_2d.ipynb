{
 "cells": [
  {
   "cell_type": "markdown",
   "metadata": {},
   "source": [
    "https://kr.mathworks.com/help/signal/ref/dct.html#bvk_sqb"
   ]
  },
  {
   "cell_type": "code",
   "execution_count": 127,
   "metadata": {},
   "outputs": [
    {
     "name": "stdout",
     "output_type": "stream",
     "text": [
      "\n",
      " 1.0000  0.5403 -0.4161 -0.9900 -0.6536  0.2837  0.9602  0.7539\n",
      " 0.5403 -0.4161 -0.9900 -0.6536  0.2837  0.9602  0.7539 -0.1455\n",
      "-0.4161 -0.9900 -0.6536  0.2837  0.9602  0.7539 -0.1455 -0.9111\n",
      "-0.9900 -0.6536  0.2837  0.9602  0.7539 -0.1455 -0.9111 -0.8391\n",
      "-0.6536  0.2837  0.9602  0.7539 -0.1455 -0.9111 -0.8391  0.0044\n",
      " 0.2837  0.9602  0.7539 -0.1455 -0.9111 -0.8391  0.0044  0.8439\n",
      " 0.9602  0.7539 -0.1455 -0.9111 -0.8391  0.0044  0.8439  0.9074\n",
      " 0.7539 -0.1455 -0.9111 -0.8391  0.0044  0.8439  0.9074  0.1367\n",
      "[torch.FloatTensor of size 8x8]\n",
      "\n",
      "\n",
      "-0.1211 -0.4355  0.1358  0.5077 -0.0095  0.1554  0.0302  0.0755\n",
      "-0.4355 -1.4255 -0.2975  1.5743 -0.0505  0.4579  0.0666  0.2068\n",
      " 0.1358 -0.2975  4.2498  0.8363  0.1012  0.3906  0.2016  0.2781\n",
      " 0.5077  1.5743  0.8363 -1.6788  0.0689 -0.4710 -0.0514 -0.2007\n",
      "-0.0095 -0.0505  0.1012  0.0689  0.0011  0.0239  0.0072  0.0134\n",
      " 0.1554  0.4579  0.3906 -0.4710  0.0239 -0.1269 -0.0085 -0.0504\n",
      " 0.0302  0.0666  0.2016 -0.0514  0.0072 -0.0085  0.0051  0.0006\n",
      " 0.0755  0.2068  0.2781 -0.2007  0.0134 -0.0504  0.0006 -0.0172\n",
      "[torch.FloatTensor of size 8x8]\n",
      "\n",
      "\n",
      " 1.0000  0.5403 -0.4161 -0.9900 -0.6536  0.2837  0.9602  0.7539\n",
      " 0.5403 -0.4161 -0.9900 -0.6536  0.2837  0.9602  0.7539 -0.1455\n",
      "-0.4161 -0.9900 -0.6536  0.2837  0.9602  0.7539 -0.1455 -0.9111\n",
      "-0.9900 -0.6536  0.2837  0.9602  0.7539 -0.1455 -0.9111 -0.8391\n",
      "-0.6536  0.2837  0.9602  0.7539 -0.1455 -0.9111 -0.8391  0.0044\n",
      " 0.2837  0.9602  0.7539 -0.1455 -0.9111 -0.8391  0.0044  0.8439\n",
      " 0.9602  0.7539 -0.1455 -0.9111 -0.8391  0.0044  0.8439  0.9074\n",
      " 0.7539 -0.1455 -0.9111 -0.8391  0.0044  0.8439  0.9074  0.1367\n",
      "[torch.FloatTensor of size 8x8]\n",
      "\n"
     ]
    },
    {
     "data": {
      "image/png": "[encoded data removed]",
      "text/plain": [
       "<matplotlib.figure.Figure at 0x17519ae48>"
      ]
     },
     "metadata": {},
     "output_type": "display_data"
    },
    {
     "data": {
      "image/png": "[encoded data removed]",
      "text/plain": [
       "<matplotlib.figure.Figure at 0x17519aba8>"
      ]
     },
     "metadata": {},
     "output_type": "display_data"
    },
    {
     "data": {
      "image/png": "[encoded data removed]",
      "text/plain": [
       "<matplotlib.figure.Figure at 0x178bb5940>"
      ]
     },
     "metadata": {},
     "output_type": "display_data"
    }
   ],
   "source": [
    "import math\n",
    "\n",
    "import torch\n",
    "import matplotlib.pyplot as plt\n",
    "\n",
    "\n",
    "def dct_matrix(n):\n",
    "    ret = torch.Tensor(n, n)\n",
    "    \n",
    "    for k in range(n):\n",
    "        for i in range(n):\n",
    "            ret[k, i] = math.pi / n * (i + .5) * k\n",
    "            \n",
    "    ret = torch.cos(ret)  \n",
    "    ret[0] /= math.sqrt(2) # X_0 /= sqrt(2)\n",
    "    return ret * math.sqrt(2 / n)\n",
    "\n",
    "\n",
    "def idct_matrix(n):\n",
    "    ret = torch.Tensor(n, n)\n",
    "    \n",
    "    for k in range(n):\n",
    "        for i in range(n):\n",
    "            ret[k, i] = math.pi / n * i * (k + .5)\n",
    "            \n",
    "    ret = torch.cos(ret)\n",
    "    ret[:, 0] /= math.sqrt(2) # x_0 /= sqrt(2)\n",
    "    return ret * math.sqrt(2 / n)\n",
    "    \n",
    "N = 8\n",
    "\n",
    "dct_mat = dct_matrix(N)\n",
    "idct_mat = idct_matrix(N)\n",
    "\n",
    "t = torch.cos(torch.arange(N) + torch.arange(N).unsqueeze(0).t())\n",
    "print(t)\n",
    "plt.matshow(t.numpy(), cmap='gray')\n",
    "\n",
    "s = torch.matmul(torch.matmul(t.t(), dct_mat).t(), dct_mat)\n",
    "print(s)\n",
    "plt.matshow(s.numpy(), cmap='gray')\n",
    "\n",
    "t = torch.matmul(torch.matmul(s.t(), idct_mat).t(), idct_mat)  # (... + x_0 / sqrt(2)) * scale_factor\n",
    "print(t)\n",
    "plt.matshow(t.numpy(), cmap='gray')\n",
    "\n",
    "plt.show()\n"
   ]
  }
 ],
 "metadata": {
  "kernelspec": {
   "display_name": "Python 3",
   "language": "python",
   "name": "python3"
  },
  "language_info": {
   "codemirror_mode": {
    "name": "ipython",
    "version": 3
   },
   "file_extension": ".py",
   "mimetype": "text/x-python",
   "name": "python",
   "nbconvert_exporter": "python",
   "pygments_lexer": "ipython3",
   "version": "3.6.3"
  }
 },
 "nbformat": 4,
 "nbformat_minor": 2
}
