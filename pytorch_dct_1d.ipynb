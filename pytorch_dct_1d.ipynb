{
 "cells": [
  {
   "cell_type": "markdown",
   "metadata": {},
   "source": [
    "https://kr.mathworks.com/help/signal/ref/dct.html#bvk_sqb"
   ]
  },
  {
   "cell_type": "code",
   "execution_count": 7,
   "metadata": {},
   "outputs": [
    {
     "name": "stdout",
     "output_type": "stream",
     "text": [
      "\n",
      " 1.0000\n",
      " 0.5403\n",
      "-0.4161\n",
      "-0.9900\n",
      "-0.6536\n",
      " 0.2837\n",
      " 0.9602\n",
      " 0.7539\n",
      "-0.1455\n",
      "-0.9111\n",
      "-0.8391\n",
      " 0.0044\n",
      " 0.8439\n",
      " 0.9074\n",
      " 0.1367\n",
      "-0.7597\n",
      "[torch.FloatTensor of size 16]\n",
      "\n",
      "\n",
      " 0.1788\n",
      " 0.1045\n",
      " 0.2973\n",
      " 0.1521\n",
      " 0.6439\n",
      " 2.6725\n",
      "-0.6133\n",
      "-0.1036\n",
      "-0.1522\n",
      "-0.0399\n",
      "-0.0700\n",
      "-0.0199\n",
      "-0.0357\n",
      "-0.0098\n",
      "-0.0155\n",
      "-0.0030\n",
      "[torch.FloatTensor of size 16]\n",
      "\n",
      "\n",
      " 1.0000\n",
      " 0.5403\n",
      "-0.4161\n",
      "-0.9900\n",
      "-0.6536\n",
      " 0.2837\n",
      " 0.9602\n",
      " 0.7539\n",
      "-0.1455\n",
      "-0.9111\n",
      "-0.8391\n",
      " 0.0044\n",
      " 0.8439\n",
      " 0.9074\n",
      " 0.1367\n",
      "-0.7597\n",
      "[torch.FloatTensor of size 16]\n",
      "\n"
     ]
    },
    {
     "data": {
      "image/png": "[encoded data removed]",
      "text/plain": [
       "<matplotlib.figure.Figure at 0x1843b9eb8>"
      ]
     },
     "metadata": {},
     "output_type": "display_data"
    },
    {
     "data": {
      "image/png": "[encoded data removed]",
      "text/plain": [
       "<matplotlib.figure.Figure at 0x184b56160>"
      ]
     },
     "metadata": {},
     "output_type": "display_data"
    },
    {
     "data": {
      "image/png": "[encoded data removed]",
      "text/plain": [
       "<matplotlib.figure.Figure at 0x184c372b0>"
      ]
     },
     "metadata": {},
     "output_type": "display_data"
    }
   ],
   "source": [
    "import math\n",
    "\n",
    "import torch\n",
    "import matplotlib.pyplot as plt\n",
    "\n",
    "\n",
    "def dct_matrix(n):\n",
    "    ret = torch.Tensor(n, n)\n",
    "    \n",
    "    for k in range(n):\n",
    "        for i in range(n):\n",
    "            ret[k, i] = math.pi / n * (i + .5) * k\n",
    "            \n",
    "    ret = torch.cos(ret)  \n",
    "    ret[0] /= math.sqrt(2) # X_0 /= sqrt(2)\n",
    "    return ret * math.sqrt(2 / n)\n",
    "\n",
    "\n",
    "def idct_matrix(n):\n",
    "    ret = torch.Tensor(n, n)\n",
    "    \n",
    "    for k in range(n):\n",
    "        for i in range(n):\n",
    "            ret[k, i] = math.pi / n * i * (k + .5)\n",
    "            \n",
    "    ret = torch.cos(ret)\n",
    "    ret[:, 0] /= math.sqrt(2) # x_0 /= sqrt(2)\n",
    "    return ret * math.sqrt(2 / n)\n",
    "    \n",
    "N = 16\n",
    "\n",
    "dct_mat = dct_matrix(N)\n",
    "idct_mat = idct_matrix(N)\n",
    "\n",
    "t = torch.cos(torch.arange(N))\n",
    "print(t)\n",
    "plt.matshow(t.unsqueeze(0).numpy(), cmap='gray')\n",
    "\n",
    "s = torch.matmul(dct_mat, t)\n",
    "print(s)\n",
    "plt.matshow(s.unsqueeze(0).numpy(), cmap='gray')\n",
    "\n",
    "t_ = torch.matmul(idct_mat, s)\n",
    "print(t_)\n",
    "plt.matshow(t_.unsqueeze(0).numpy(), cmap='gray')\n",
    "\n",
    "plt.show()"
   ]
  }
 ],
 "metadata": {
  "kernelspec": {
   "display_name": "Python 3",
   "language": "python",
   "name": "python3"
  },
  "language_info": {
   "codemirror_mode": {
    "name": "ipython",
    "version": 3
   },
   "file_extension": ".py",
   "mimetype": "text/x-python",
   "name": "python",
   "nbconvert_exporter": "python",
   "pygments_lexer": "ipython3",
   "version": "3.6.3"
  }
 },
 "nbformat": 4,
 "nbformat_minor": 2
}
